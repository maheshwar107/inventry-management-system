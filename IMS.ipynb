{
  "nbformat": 4,
  "nbformat_minor": 0,
  "metadata": {
    "colab": {
      "name": "IMS.ipynb",
      "provenance": [],
      "toc_visible": true
    },
    "kernelspec": {
      "name": "python3",
      "display_name": "Python 3"
    },
    "language_info": {
      "name": "python"
    }
  },
  "cells": [
    {
      "cell_type": "code",
      "metadata": {
        "id": "CAbYzzw7dUcM"
      },
      "source": [
        "list1={1001:{\"name\":\"perk\",\"price\":5,\"quantity\":20,\"weight\":20,\"calorie\":50},\n",
        "      1002:{\"name\":\"kitkat\",\"price\":5,\"quantity\":20,\"weight\":10,\"calorie\":30},\n",
        "      1003:{\"name\":\"5star\",\"price\":5,\"quantity\":20,\"weight\":15,\"calorie\":70},\n",
        "      1004:{\"name\":\"cadbury\",\"price\":5,\"quantity\":20,\"weight\":20,\"calorie\":90},\n",
        "      1005:{\"name\":\"munch\",\"price\":10,\"quantity\":20,\"weight\":10,\"calorie\":70},\n",
        "      1006:{\"name\":\"mango\",\"price\":10,\"quantity\":20,\"weight\":20,\"calorie\":60},\n",
        "      1007:{\"name\":\"fruti\",\"price\":20,\"quantity\":20,\"weight\":50,\"calorie\":30},\n",
        "      1008:{\"name\":\"fizz\",\"price\":30,\"quantity\":20,\"weight\":50,\"calorie\":50},\n",
        "      1009:{\"name\":\"macho\",\"price\":50,\"quantity\":20,\"weight\":20,\"calorie\":50},\n",
        "      1010:{\"name\":\"bulk\",\"price\":5,\"quantity\":20,\"weight\":20,\"calorie\":70},\n",
        "      1011:{\"name\":\"bingo\",\"price\":5,\"quantity\":20,\"weight\":20,\"calorie\":50},\n",
        "      1012:{\"name\":\"fruti\",\"price\":5,\"quantity\":20,\"weight\":10,\"calorie\":40},\n",
        "      1013:{\"name\":\"cargo\",\"price\":25,\"quantity\":20,\"weight\":20,\"calorie\":100},\n",
        "      1014:{\"name\":\"oreo\",\"price\":15,\"quantity\":20,\"weight\":20,\"calorie\":70},\n",
        "      1015:{\"name\":\"cocacola\",\"price\":20,\"quantity\":20,\"weight\":200,\"calorie\":50},\n",
        "      1016:{\"name\":\"parle\",\"price\":5,\"quantity\":20,\"weight\":20,\"calorie\":50},\n",
        "      1017:{\"name\":\"mari\",\"price\":5,\"quantity\":20,\"weight\":50,\"calorie\":50},\n",
        "      1018:{\"name\":\"dark\",\"price\":30,\"quantity\":20,\"weight\":20,\"calorie\":50},\n",
        "      1019:{\"name\":\"amul choco\",\"price\":100,\"quantity\":20,\"weight\":100,\"calorie\":50},\n",
        "      1020:{\"name\":\"maggi\",\"price\":12,\"quantity\":20,\"weight\":20,\"calorie\":50},\n",
        "      1021:{\"name\":\"pears\",\"price\":18,\"quantity\":20,\"weight\":20,\"calorie\":50},\n",
        "      1022:{\"name\":\"layz\",\"price\":10,\"quantity\":20,\"weight\":20,\"calorie\":50},\n",
        "      1023:{\"name\":\"cheese\",\"price\":25,\"quantity\":20,\"weight\":25,\"calorie\":100},\n",
        "      1024:{\"name\":\"wheels\",\"price\":5,\"quantity\":20,\"weight\":30,\"calorie\":50},\n",
        "      1025:{\"name\":\"peanuts\",\"price\":500,\"quantity\":20,\"weight\":250,\"calorie\":200},\n",
        "      1026:{\"name\":\"gold crisp\",\"price\":10,\"quantity\":20,\"weight\":10,\"calorie\":500},\n",
        "      1027:{\"name\":\"silk\",\"price\":100,\"quantity\":20,\"weight\":50,\"calorie\":250},\n",
        "      1028:{\"name\":\"milkbar\",\"price\":5,\"quantity\":20,\"weight\":10,\"calorie\":30},\n",
        "      1029:{\"name\":\"lassi\",\"price\":20,\"quantity\":20,\"weight\":300,\"calorie\":150},\n",
        "      1030:{\"name\":\"red bull\",\"price\":120,\"quantity\":20,\"weight\":200,\"calorie\":175}\n",
        "      }"
      ],
      "execution_count": 1,
      "outputs": []
    },
    {
      "cell_type": "code",
      "metadata": {
        "id": "8CQZyCbKdp2E"
      },
      "source": [
        "import json\n",
        "js=json.dumps(list1)\n",
        "x=open(\"products.json\",'w')\n",
        "x.write(js)\n",
        "x.close()\n",
        "x=open(\"products.json\",'r')\n",
        "txt=x.read()\n",
        "x.close()\n",
        "list2=json.loads(txt)"
      ],
      "execution_count": 2,
      "outputs": []
    },
    {
      "cell_type": "code",
      "metadata": {
        "colab": {
          "base_uri": "https://localhost:8080/"
        },
        "id": "-d7pV5_Xd1rb",
        "outputId": "87ddb85a-ffe6-419e-b029-8492daa80c8b"
      },
      "source": [
        "#getting products info from products file\n",
        "x=open(\"products.json\",'r')\n",
        "txt=x.read()\n",
        "x.close()\n",
        "list2=json.loads(txt)\n",
        "\n",
        "\n",
        "#creating bill for product\n",
        "n=input(\"enter the product id      :\")\n",
        "m=int(input(\"enter the quantity        :\"))\n",
        "\n",
        "if n in list2:\n",
        "  product =list2[n]\n",
        "  if m<=product[\"quantity\"]:\n",
        "  \n",
        "        print(\"product name              :\",product[\"name\"])\n",
        "        print(\"price per piece in rupees :\",product['price'])\n",
        "        print(\"***********************************************\")\n",
        "        print(\"bill amount in rupees is  :\",product['price']*m)\n",
        "        print(\"weight of products        :\",product['weight']*m,\"mg\")\n",
        "        print(\"***********************************************\")\n",
        "        print(\"thank you for shopping! visit again \")\n",
        "        #product_remain=product['quantity']-m\n",
        "\n",
        "  else:\n",
        "      print(\"sorry for inconvenience but we have limited stock\")\n",
        "      m=0\n",
        "else:\n",
        "  print(\"product not found\")\n",
        "  m=0\n",
        "#remaining quantity of product \n",
        "product_remain=product['quantity']-m\n",
        "list2[n][\"quantity\"]=product_remain\n",
        "\n",
        "\n",
        "\n",
        "#adding sold products info into sold file\n",
        "sold_list={n:{'product name':product[\"name\"],'quantity sold':m,'amount':product['price']*m}}\n",
        "se=json.dumps(sold_list)\n",
        "x=open(\"sell.json\",'w')\n",
        "x.write(se)\n",
        "x.close()\n",
        "#updating product file after product is sold\n",
        "js=json.dumps(list2)\n",
        "x=open(\"products.json\",'w')\n",
        "x.write(js)\n",
        "x.close()"
      ],
      "execution_count": 4,
      "outputs": [
        {
          "output_type": "stream",
          "name": "stdout",
          "text": [
            "enter the product id      :1007\n",
            "enter the quantity        :2\n",
            "product name              : fruti\n",
            "price per piece in rupees : 20\n",
            "***********************************************\n",
            "bill amount in rupees is  : 40\n",
            "weight of products        : 100 mg\n",
            "***********************************************\n",
            "thank you for shopping! visit again \n"
          ]
        }
      ]
    },
    {
      "cell_type": "code",
      "metadata": {
        "colab": {
          "base_uri": "https://localhost:8080/"
        },
        "id": "cOdGZapaeFEl",
        "outputId": "c92e7f79-d2d0-4cb5-a12e-cf75fa0d6e56"
      },
      "source": [
        "x=open(\"products.json\",'r')\n",
        "txt=x.read()\n",
        "x.close()\n",
        "list3=json.loads(txt)\n",
        "\n",
        "#updating products in list\n",
        "\n",
        "n=input(\"enter the product id      :\")\n",
        "if n in list3:\n",
        "  m=int(input(\"enter the quantity        :\"))\n",
        "  k=list3[n]['quantity']+m\n",
        "  list3[n]['quantity']=k\n",
        "\n",
        "else:\n",
        "  p=input(\"enter name\")\n",
        "  m=int(input(\"enter the quantity        :\"))\n",
        "  o=int(input(\"enter price\"))\n",
        "  w=float(input(\"enter weight\"))\n",
        "  c=float(input(\"enter calorie\"))\n",
        "  list3[n]={'name':p,'price per piece':o,'quantity':m,'weight':w,'calorie':c}\n",
        "\n",
        "#updating products in product file\n",
        "\n",
        "ne=json.dumps(list3)\n",
        "x=open(\"products.json\",'w')\n",
        "x.write(ne)\n",
        "x.close()\n",
        "print(\"product added \")\n"
      ],
      "execution_count": 7,
      "outputs": [
        {
          "output_type": "stream",
          "name": "stdout",
          "text": [
            "enter the product id      :1007\n",
            "enter the quantity        :5\n",
            "product added \n"
          ]
        }
      ]
    }
  ]
}